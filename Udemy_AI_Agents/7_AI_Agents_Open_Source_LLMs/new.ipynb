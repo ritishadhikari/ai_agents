{
 "cells": [
  {
   "cell_type": "code",
   "execution_count": 13,
   "id": "626afede-80c6-439e-856c-8fe3c2dfdc21",
   "metadata": {},
   "outputs": [],
   "source": [
    "from langchain_core.runnables import RunnablePassthrough,RunnableLambda, Runnable, RunnableParallel,RunnableConfig,RunnableGenerator\n",
    "from langchain_core.messages import AIMessage\n",
    "from dotenv import load_dotenv,find_dotenv\n",
    "from langchain.tools import tool\n",
    "from langchain.prompts import ChatPromptTemplate,SystemMessagePromptTemplate, HumanMessagePromptTemplate\n",
    "from langchain_core.output_parsers import JsonOutputParser,StrOutputParser\n",
    "from operator import itemgetter\n",
    "from langchain.embeddings import SentenceTransformerEmbeddings\n",
    "import json\n",
    "from langchain_community.vectorstores import FAISS,Chroma\n",
    "from operator import itemgetter\n",
    "import time\n",
    "from typing import Iterator,List,AsyncIterator\n",
    "from langchain_core.runnables import ConfigurableField\n",
    "from langchain.runnables.hub import HubRunnable\n",
    "from langchain.llms import Ollama\n",
    "from langchain_core.prompts import PromptTemplate,ChatPromptTemplate,MessagesPlaceholder"
   ]
  },
  {
   "cell_type": "code",
   "execution_count": 7,
   "id": "025ef6c9-9ce0-447c-b6ac-97d411d00a32",
   "metadata": {},
   "outputs": [
    {
     "name": "stderr",
     "output_type": "stream",
     "text": [
      "C:\\Users\\MSI\\AppData\\Local\\Temp\\ipykernel_13776\\578752248.py:1: LangChainDeprecationWarning: The class `Ollama` was deprecated in LangChain 0.3.1 and will be removed in 1.0.0. An updated version of the class exists in the :class:`~langchain-ollama package and should be used instead. To use it run `pip install -U :class:`~langchain-ollama` and import as `from :class:`~langchain_ollama import OllamaLLM``.\n",
      "  llmLlama=Ollama(base_url=\"http://127.0.0.1:11434\", model=\"llama3.1:8b\")\n"
     ]
    }
   ],
   "source": [
    "llmLlama=Ollama(base_url=\"http://127.0.0.1:11434\", model=\"llama3.1:8b\")  "
   ]
  },
  {
   "cell_type": "code",
   "execution_count": 14,
   "id": "8a8b4637-a69c-4d5b-8578-ad6db5930678",
   "metadata": {},
   "outputs": [],
   "source": [
    "promptTemplate=PromptTemplate.from_template(template=\"Tell me a {adjective} joke about {content}\")"
   ]
  },
  {
   "cell_type": "code",
   "execution_count": 15,
   "id": "a09481fb-166a-4a45-a38c-3706c10cd0fd",
   "metadata": {},
   "outputs": [],
   "source": [
    "chatTemplate=ChatPromptTemplate.from_messages(\n",
    "    messages=[\n",
    "                (\"system\",\"You are a helpful AI Bot. Your name is {name}\"),\n",
    "                (\"human\",\"Hello, how are you doing?\"),\n",
    "                (\"ai\",\"I'm doing well, thanks!\"),\n",
    "                (\"human\",\"{userInput}\")\n",
    "    ]\n",
    ")"
   ]
  },
  {
   "cell_type": "code",
   "execution_count": 16,
   "id": "a55a0053-a317-4b9e-8219-aa044a6ccd47",
   "metadata": {},
   "outputs": [],
   "source": [
    "chain=chatTemplate|llmLlama|StrOutputParser()"
   ]
  },
  {
   "cell_type": "code",
   "execution_count": 17,
   "id": "fc65fe85-fb22-4b01-a516-af40f363d751",
   "metadata": {},
   "outputs": [
    {
     "data": {
      "text/plain": [
       "\"My name is Megan! It's nice to meet you! I'm here to assist and provide information on a wide range of topics, so feel free to ask me anything. How can I help you today?\""
      ]
     },
     "execution_count": 17,
     "metadata": {},
     "output_type": "execute_result"
    }
   ],
   "source": [
    "\n",
    "chain.invoke(input={'name':\"Megan\",'userInput':\"What is your name?\"})"
   ]
  },
  {
   "cell_type": "code",
   "execution_count": null,
   "id": "cca9b4f2-f403-4483-96b9-da6af1127221",
   "metadata": {},
   "outputs": [],
   "source": []
  }
 ],
 "metadata": {
  "kernelspec": {
   "display_name": "Python 3 (ipykernel)",
   "language": "python",
   "name": "python3"
  },
  "language_info": {
   "codemirror_mode": {
    "name": "ipython",
    "version": 3
   },
   "file_extension": ".py",
   "mimetype": "text/x-python",
   "name": "python",
   "nbconvert_exporter": "python",
   "pygments_lexer": "ipython3",
   "version": "3.12.9"
  }
 },
 "nbformat": 4,
 "nbformat_minor": 5
}
